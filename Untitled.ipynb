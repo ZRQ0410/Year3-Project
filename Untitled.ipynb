{
 "cells": [
  {
   "cell_type": "code",
   "execution_count": 2,
   "id": "5a1918d1-9ad9-4f55-a0a2-f692016993c8",
   "metadata": {},
   "outputs": [],
   "source": [
    "import pandas as pd\n",
    "from tqdm.notebook import tqdm"
   ]
  },
  {
   "cell_type": "code",
   "execution_count": 319,
   "id": "fe3716bd-d02b-4a17-805c-8796f46e7505",
   "metadata": {},
   "outputs": [],
   "source": [
    "location_df = pd.read_csv('scrapy/scraper/nhsdata.csv')"
   ]
  },
  {
   "cell_type": "code",
   "execution_count": 321,
   "id": "013d7349-4d60-4f2d-8d95-2f80a20e6586",
   "metadata": {},
   "outputs": [
    {
     "data": {
      "text/plain": [
       "array(['Regency Road Surgery', 'Long Clawson Medical Practice',\n",
       "       'Latham House Medical Practice', ..., 'Royal Hospital School',\n",
       "       'Maude Street Surgery', 'County Road Surgery'], dtype=object)"
      ]
     },
     "execution_count": 321,
     "metadata": {},
     "output_type": "execute_result"
    }
   ],
   "source": [
    "p = location_df.gp.unique()\n",
    "p"
   ]
  },
  {
   "cell_type": "code",
   "execution_count": 300,
   "id": "1de5363e-ce73-42cc-af38-56f78a13c809",
   "metadata": {},
   "outputs": [
    {
     "data": {
      "text/html": [
       "<div>\n",
       "<style scoped>\n",
       "    .dataframe tbody tr th:only-of-type {\n",
       "        vertical-align: middle;\n",
       "    }\n",
       "\n",
       "    .dataframe tbody tr th {\n",
       "        vertical-align: top;\n",
       "    }\n",
       "\n",
       "    .dataframe thead th {\n",
       "        text-align: right;\n",
       "    }\n",
       "</style>\n",
       "<table border=\"1\" class=\"dataframe\">\n",
       "  <thead>\n",
       "    <tr style=\"text-align: right;\">\n",
       "      <th></th>\n",
       "      <th>gp</th>\n",
       "      <th>locname</th>\n",
       "    </tr>\n",
       "  </thead>\n",
       "  <tbody>\n",
       "  </tbody>\n",
       "</table>\n",
       "</div>"
      ],
      "text/plain": [
       "Empty DataFrame\n",
       "Columns: [gp, locname]\n",
       "Index: []"
      ]
     },
     "execution_count": 300,
     "metadata": {},
     "output_type": "execute_result"
    }
   ],
   "source": [
    "# check duplicate rows\n",
    "location_df[location_df.duplicated()]"
   ]
  },
  {
   "cell_type": "code",
   "execution_count": 309,
   "id": "1e728bac-30ef-4ab8-8f21-62fa536e97f9",
   "metadata": {},
   "outputs": [
    {
     "data": {
      "text/html": [
       "<div>\n",
       "<style scoped>\n",
       "    .dataframe tbody tr th:only-of-type {\n",
       "        vertical-align: middle;\n",
       "    }\n",
       "\n",
       "    .dataframe tbody tr th {\n",
       "        vertical-align: top;\n",
       "    }\n",
       "\n",
       "    .dataframe thead th {\n",
       "        text-align: right;\n",
       "    }\n",
       "</style>\n",
       "<table border=\"1\" class=\"dataframe\">\n",
       "  <thead>\n",
       "    <tr style=\"text-align: right;\">\n",
       "      <th></th>\n",
       "      <th>gp</th>\n",
       "      <th>locname</th>\n",
       "    </tr>\n",
       "  </thead>\n",
       "  <tbody>\n",
       "    <tr>\n",
       "      <th>5671992</th>\n",
       "      <td>City Health Centre</td>\n",
       "      <td>Manchester</td>\n",
       "    </tr>\n",
       "    <tr>\n",
       "      <th>5671993</th>\n",
       "      <td>Blackfriars</td>\n",
       "      <td>Manchester</td>\n",
       "    </tr>\n",
       "    <tr>\n",
       "      <th>5671994</th>\n",
       "      <td>THE Doc's Surgery</td>\n",
       "      <td>Manchester</td>\n",
       "    </tr>\n",
       "    <tr>\n",
       "      <th>5672024</th>\n",
       "      <td>Trinity Medical Centre</td>\n",
       "      <td>Manchester</td>\n",
       "    </tr>\n",
       "    <tr>\n",
       "      <th>5672025</th>\n",
       "      <td>The Arch Medical Practice</td>\n",
       "      <td>Manchester</td>\n",
       "    </tr>\n",
       "    <tr>\n",
       "      <th>...</th>\n",
       "      <td>...</td>\n",
       "      <td>...</td>\n",
       "    </tr>\n",
       "    <tr>\n",
       "      <th>5713203</th>\n",
       "      <td>The Village Surgeries Group</td>\n",
       "      <td>Manchester</td>\n",
       "    </tr>\n",
       "    <tr>\n",
       "      <th>5713204</th>\n",
       "      <td>Haigh Hall Medical Practice</td>\n",
       "      <td>Manchester</td>\n",
       "    </tr>\n",
       "    <tr>\n",
       "      <th>5713205</th>\n",
       "      <td>West Lodge Surgery</td>\n",
       "      <td>Manchester</td>\n",
       "    </tr>\n",
       "    <tr>\n",
       "      <th>5713206</th>\n",
       "      <td>Dr S M Chen &amp; Partner</td>\n",
       "      <td>Manchester</td>\n",
       "    </tr>\n",
       "    <tr>\n",
       "      <th>5713241</th>\n",
       "      <td>Glenlea Surgery</td>\n",
       "      <td>Manchester</td>\n",
       "    </tr>\n",
       "  </tbody>\n",
       "</table>\n",
       "<p>973 rows × 2 columns</p>\n",
       "</div>"
      ],
      "text/plain": [
       "                                  gp     locname\n",
       "5671992           City Health Centre  Manchester\n",
       "5671993                  Blackfriars  Manchester\n",
       "5671994            THE Doc's Surgery  Manchester\n",
       "5672024       Trinity Medical Centre  Manchester\n",
       "5672025    The Arch Medical Practice  Manchester\n",
       "...                              ...         ...\n",
       "5713203  The Village Surgeries Group  Manchester\n",
       "5713204  Haigh Hall Medical Practice  Manchester\n",
       "5713205           West Lodge Surgery  Manchester\n",
       "5713206        Dr S M Chen & Partner  Manchester\n",
       "5713241              Glenlea Surgery  Manchester\n",
       "\n",
       "[973 rows x 2 columns]"
      ]
     },
     "execution_count": 309,
     "metadata": {},
     "output_type": "execute_result"
    }
   ],
   "source": [
    "location_df[location_df['locname']=='Manchester']"
   ]
  },
  {
   "cell_type": "code",
   "execution_count": 302,
   "id": "1e67ec40-2a9a-4171-9a4a-ce801c4bf40a",
   "metadata": {},
   "outputs": [
    {
     "data": {
      "text/plain": [
       "1518"
      ]
     },
     "execution_count": 302,
     "metadata": {},
     "output_type": "execute_result"
    }
   ],
   "source": [
    "location_df[location_df['locname'].str.startswith('B')].locname.nunique()"
   ]
  },
  {
   "cell_type": "code",
   "execution_count": 318,
   "id": "363bd628-8d6e-413b-9a20-4244a4b2acdc",
   "metadata": {},
   "outputs": [
    {
     "data": {
      "text/html": [
       "<div>\n",
       "<style scoped>\n",
       "    .dataframe tbody tr th:only-of-type {\n",
       "        vertical-align: middle;\n",
       "    }\n",
       "\n",
       "    .dataframe tbody tr th {\n",
       "        vertical-align: top;\n",
       "    }\n",
       "\n",
       "    .dataframe thead th {\n",
       "        text-align: right;\n",
       "    }\n",
       "</style>\n",
       "<table border=\"1\" class=\"dataframe\">\n",
       "  <thead>\n",
       "    <tr style=\"text-align: right;\">\n",
       "      <th></th>\n",
       "      <th>gp</th>\n",
       "      <th>locname</th>\n",
       "    </tr>\n",
       "  </thead>\n",
       "  <tbody>\n",
       "    <tr>\n",
       "      <th>3318</th>\n",
       "      <td>Blackthorn Health Centre</td>\n",
       "      <td>Abbots Worthy</td>\n",
       "    </tr>\n",
       "    <tr>\n",
       "      <th>4208</th>\n",
       "      <td>Blackthorn Health Centre</td>\n",
       "      <td>Abbotstone</td>\n",
       "    </tr>\n",
       "    <tr>\n",
       "      <th>30022</th>\n",
       "      <td>Blackthorn Health Centre</td>\n",
       "      <td>Calshot</td>\n",
       "    </tr>\n",
       "    <tr>\n",
       "      <th>34894</th>\n",
       "      <td>Blackthorn Health Centre</td>\n",
       "      <td>Bedhampton</td>\n",
       "    </tr>\n",
       "    <tr>\n",
       "      <th>39191</th>\n",
       "      <td>Blackthorn Health Centre</td>\n",
       "      <td>Bell Hill</td>\n",
       "    </tr>\n",
       "    <tr>\n",
       "      <th>...</th>\n",
       "      <td>...</td>\n",
       "      <td>...</td>\n",
       "    </tr>\n",
       "    <tr>\n",
       "      <th>7931135</th>\n",
       "      <td>Blackthorn Health Centre</td>\n",
       "      <td>Brockhurst, Hampshire</td>\n",
       "    </tr>\n",
       "    <tr>\n",
       "      <th>7932175</th>\n",
       "      <td>Blackthorn Health Centre</td>\n",
       "      <td>Broadbridge</td>\n",
       "    </tr>\n",
       "    <tr>\n",
       "      <th>7934934</th>\n",
       "      <td>Blackthorn Health Centre</td>\n",
       "      <td>Brockbridge</td>\n",
       "    </tr>\n",
       "    <tr>\n",
       "      <th>7934936</th>\n",
       "      <td>Blackthorn Health Centre</td>\n",
       "      <td>Brockenhurst</td>\n",
       "    </tr>\n",
       "    <tr>\n",
       "      <th>7954386</th>\n",
       "      <td>Blackthorn Health Centre</td>\n",
       "      <td>Broadmere</td>\n",
       "    </tr>\n",
       "  </tbody>\n",
       "</table>\n",
       "<p>752 rows × 2 columns</p>\n",
       "</div>"
      ],
      "text/plain": [
       "                               gp                locname\n",
       "3318     Blackthorn Health Centre          Abbots Worthy\n",
       "4208     Blackthorn Health Centre             Abbotstone\n",
       "30022    Blackthorn Health Centre                Calshot\n",
       "34894    Blackthorn Health Centre             Bedhampton\n",
       "39191    Blackthorn Health Centre              Bell Hill\n",
       "...                           ...                    ...\n",
       "7931135  Blackthorn Health Centre  Brockhurst, Hampshire\n",
       "7932175  Blackthorn Health Centre            Broadbridge\n",
       "7934934  Blackthorn Health Centre            Brockbridge\n",
       "7934936  Blackthorn Health Centre           Brockenhurst\n",
       "7954386  Blackthorn Health Centre              Broadmere\n",
       "\n",
       "[752 rows x 2 columns]"
      ]
     },
     "execution_count": 318,
     "metadata": {},
     "output_type": "execute_result"
    }
   ],
   "source": [
    "location_df[location_df['gp']=='Blackthorn Health Centre']"
   ]
  },
  {
   "cell_type": "code",
   "execution_count": 303,
   "id": "84629842-29a7-4749-93d7-17200840bc55",
   "metadata": {},
   "outputs": [
    {
     "data": {
      "text/plain": [
       "Hayes, Greater London           2075\n",
       "Grove Park, Greater London      2006\n",
       "Green Street, Hertfordshire     1996\n",
       "Bury Green, Hertfordshire       1914\n",
       "Hook Green, Kent                1910\n",
       "                                ... \n",
       "Blisland                           7\n",
       "Brineton                           7\n",
       "Higher Town, Isles of Scilly       2\n",
       "Isles of Scilly                    2\n",
       "Hugh Town                          2\n",
       "Name: locname, Length: 20172, dtype: int64"
      ]
     },
     "execution_count": 303,
     "metadata": {},
     "output_type": "execute_result"
    }
   ],
   "source": [
    "location_df['locname'].value_counts()"
   ]
  },
  {
   "cell_type": "code",
   "execution_count": 322,
   "id": "1a20e41e-8521-4a95-82f7-7e682cbad9e4",
   "metadata": {},
   "outputs": [
    {
     "data": {
      "text/plain": [
       "Riverside Surgery                                                  6705\n",
       "High Street Surgery                                                6175\n",
       "The Village Surgery                                                5499\n",
       "Village Surgery                                                    4842\n",
       "Park View Surgery                                                  4769\n",
       "                                                                   ... \n",
       "Grasmere Branch Surgery                                              78\n",
       "County Road Surgery                                                  45\n",
       "St Mary's Health Centre                                               3\n",
       "Dr Garman & Partners                                                  3\n",
       "Lordship Lane Health Centre - Covid Local Vaccination Service 2       1\n",
       "Name: gp, Length: 8032, dtype: int64"
      ]
     },
     "execution_count": 322,
     "metadata": {},
     "output_type": "execute_result"
    }
   ],
   "source": [
    "location_df['gp'].value_counts()"
   ]
  },
  {
   "cell_type": "code",
   "execution_count": 323,
   "id": "2eb33788-12b8-4881-b698-a7b96ccb910f",
   "metadata": {},
   "outputs": [],
   "source": [
    "# gp: name of gp (unique), locations: places where the gp locates, nhs_url: the nhs overview website of the gp, url: main website of the gp\n",
    "gp_df = pd.DataFrame(columns=['gp', 'locations', 'nhs_url', 'url'])\n",
    "gp_df['gp'] = location_df['gp'].unique()"
   ]
  },
  {
   "cell_type": "code",
   "execution_count": 325,
   "id": "6d9dec33-970b-4aac-b34c-30965a04a1d6",
   "metadata": {},
   "outputs": [
    {
     "data": {
      "text/html": [
       "<div>\n",
       "<style scoped>\n",
       "    .dataframe tbody tr th:only-of-type {\n",
       "        vertical-align: middle;\n",
       "    }\n",
       "\n",
       "    .dataframe tbody tr th {\n",
       "        vertical-align: top;\n",
       "    }\n",
       "\n",
       "    .dataframe thead th {\n",
       "        text-align: right;\n",
       "    }\n",
       "</style>\n",
       "<table border=\"1\" class=\"dataframe\">\n",
       "  <thead>\n",
       "    <tr style=\"text-align: right;\">\n",
       "      <th></th>\n",
       "      <th>gp</th>\n",
       "      <th>locations</th>\n",
       "      <th>nhs_url</th>\n",
       "      <th>url</th>\n",
       "    </tr>\n",
       "  </thead>\n",
       "  <tbody>\n",
       "    <tr>\n",
       "      <th>2346</th>\n",
       "      <td>Blackthorn Health Centre</td>\n",
       "      <td>NaN</td>\n",
       "      <td>NaN</td>\n",
       "      <td>NaN</td>\n",
       "    </tr>\n",
       "  </tbody>\n",
       "</table>\n",
       "</div>"
      ],
      "text/plain": [
       "                            gp locations nhs_url  url\n",
       "2346  Blackthorn Health Centre       NaN     NaN  NaN"
      ]
     },
     "execution_count": 325,
     "metadata": {},
     "output_type": "execute_result"
    }
   ],
   "source": [
    "gp_df[gp_df['gp']=='Blackthorn Health Centre']"
   ]
  },
  {
   "cell_type": "code",
   "execution_count": 331,
   "id": "fc0d33c9-a8aa-4273-a616-4ce5421f411d",
   "metadata": {},
   "outputs": [
    {
     "data": {
      "text/plain": [
       "gp           Wheaton Aston Surgery\n",
       "locations                      NaN\n",
       "nhs_url                        NaN\n",
       "url                            NaN\n",
       "Name: 2347, dtype: object"
      ]
     },
     "execution_count": 331,
     "metadata": {},
     "output_type": "execute_result"
    }
   ],
   "source": [
    "gp_df.iloc[2347]"
   ]
  },
  {
   "cell_type": "code",
   "execution_count": 324,
   "id": "5cab539e-4c11-48d2-9d9b-4d44a5992be5",
   "metadata": {},
   "outputs": [
    {
     "data": {
      "text/html": [
       "<div>\n",
       "<style scoped>\n",
       "    .dataframe tbody tr th:only-of-type {\n",
       "        vertical-align: middle;\n",
       "    }\n",
       "\n",
       "    .dataframe tbody tr th {\n",
       "        vertical-align: top;\n",
       "    }\n",
       "\n",
       "    .dataframe thead th {\n",
       "        text-align: right;\n",
       "    }\n",
       "</style>\n",
       "<table border=\"1\" class=\"dataframe\">\n",
       "  <thead>\n",
       "    <tr style=\"text-align: right;\">\n",
       "      <th></th>\n",
       "      <th>gp</th>\n",
       "      <th>locations</th>\n",
       "      <th>nhs_url</th>\n",
       "      <th>url</th>\n",
       "    </tr>\n",
       "  </thead>\n",
       "  <tbody>\n",
       "    <tr>\n",
       "      <th>0</th>\n",
       "      <td>Regency Road Surgery</td>\n",
       "      <td>NaN</td>\n",
       "      <td>NaN</td>\n",
       "      <td>NaN</td>\n",
       "    </tr>\n",
       "    <tr>\n",
       "      <th>1</th>\n",
       "      <td>Long Clawson Medical Practice</td>\n",
       "      <td>NaN</td>\n",
       "      <td>NaN</td>\n",
       "      <td>NaN</td>\n",
       "    </tr>\n",
       "    <tr>\n",
       "      <th>2</th>\n",
       "      <td>Latham House Medical Practice</td>\n",
       "      <td>NaN</td>\n",
       "      <td>NaN</td>\n",
       "      <td>NaN</td>\n",
       "    </tr>\n",
       "    <tr>\n",
       "      <th>3</th>\n",
       "      <td>The Welby Practice (Waltham)</td>\n",
       "      <td>NaN</td>\n",
       "      <td>NaN</td>\n",
       "      <td>NaN</td>\n",
       "    </tr>\n",
       "    <tr>\n",
       "      <th>4</th>\n",
       "      <td>Stackyard and Woolsthorpe Surgery</td>\n",
       "      <td>NaN</td>\n",
       "      <td>NaN</td>\n",
       "      <td>NaN</td>\n",
       "    </tr>\n",
       "    <tr>\n",
       "      <th>...</th>\n",
       "      <td>...</td>\n",
       "      <td>...</td>\n",
       "      <td>...</td>\n",
       "      <td>...</td>\n",
       "    </tr>\n",
       "    <tr>\n",
       "      <th>8027</th>\n",
       "      <td>Diamond Medical Group</td>\n",
       "      <td>NaN</td>\n",
       "      <td>NaN</td>\n",
       "      <td>NaN</td>\n",
       "    </tr>\n",
       "    <tr>\n",
       "      <th>8028</th>\n",
       "      <td>Dr Barclay P</td>\n",
       "      <td>NaN</td>\n",
       "      <td>NaN</td>\n",
       "      <td>NaN</td>\n",
       "    </tr>\n",
       "    <tr>\n",
       "      <th>8029</th>\n",
       "      <td>Royal Hospital School</td>\n",
       "      <td>NaN</td>\n",
       "      <td>NaN</td>\n",
       "      <td>NaN</td>\n",
       "    </tr>\n",
       "    <tr>\n",
       "      <th>8030</th>\n",
       "      <td>Maude Street Surgery</td>\n",
       "      <td>NaN</td>\n",
       "      <td>NaN</td>\n",
       "      <td>NaN</td>\n",
       "    </tr>\n",
       "    <tr>\n",
       "      <th>8031</th>\n",
       "      <td>County Road Surgery</td>\n",
       "      <td>NaN</td>\n",
       "      <td>NaN</td>\n",
       "      <td>NaN</td>\n",
       "    </tr>\n",
       "  </tbody>\n",
       "</table>\n",
       "<p>8032 rows × 4 columns</p>\n",
       "</div>"
      ],
      "text/plain": [
       "                                     gp locations nhs_url  url\n",
       "0                  Regency Road Surgery       NaN     NaN  NaN\n",
       "1         Long Clawson Medical Practice       NaN     NaN  NaN\n",
       "2         Latham House Medical Practice       NaN     NaN  NaN\n",
       "3          The Welby Practice (Waltham)       NaN     NaN  NaN\n",
       "4     Stackyard and Woolsthorpe Surgery       NaN     NaN  NaN\n",
       "...                                 ...       ...     ...  ...\n",
       "8027              Diamond Medical Group       NaN     NaN  NaN\n",
       "8028                       Dr Barclay P       NaN     NaN  NaN\n",
       "8029              Royal Hospital School       NaN     NaN  NaN\n",
       "8030               Maude Street Surgery       NaN     NaN  NaN\n",
       "8031                County Road Surgery       NaN     NaN  NaN\n",
       "\n",
       "[8032 rows x 4 columns]"
      ]
     },
     "execution_count": 324,
     "metadata": {},
     "output_type": "execute_result"
    }
   ],
   "source": [
    "gp_df"
   ]
  },
  {
   "cell_type": "code",
   "execution_count": 246,
   "id": "4fd92fd1-7d85-4b7e-948d-4ae2365068a9",
   "metadata": {},
   "outputs": [
    {
     "data": {
      "text/html": [
       "<div>\n",
       "<style scoped>\n",
       "    .dataframe tbody tr th:only-of-type {\n",
       "        vertical-align: middle;\n",
       "    }\n",
       "\n",
       "    .dataframe tbody tr th {\n",
       "        vertical-align: top;\n",
       "    }\n",
       "\n",
       "    .dataframe thead th {\n",
       "        text-align: right;\n",
       "    }\n",
       "</style>\n",
       "<table border=\"1\" class=\"dataframe\">\n",
       "  <thead>\n",
       "    <tr style=\"text-align: right;\">\n",
       "      <th></th>\n",
       "      <th>gp</th>\n",
       "      <th>locations</th>\n",
       "      <th>nhs_url</th>\n",
       "      <th>url</th>\n",
       "    </tr>\n",
       "  </thead>\n",
       "  <tbody>\n",
       "    <tr>\n",
       "      <th>318</th>\n",
       "      <td>Nethergreen Surgery</td>\n",
       "      <td>[Abbeydale, Alport, Alton, Derbyshire, Bakewel...</td>\n",
       "      <td>NaN</td>\n",
       "      <td>NaN</td>\n",
       "    </tr>\n",
       "  </tbody>\n",
       "</table>\n",
       "</div>"
      ],
      "text/plain": [
       "                      gp                                          locations  \\\n",
       "318  Nethergreen Surgery  [Abbeydale, Alport, Alton, Derbyshire, Bakewel...   \n",
       "\n",
       "    nhs_url  url  \n",
       "318     NaN  NaN  "
      ]
     },
     "execution_count": 246,
     "metadata": {},
     "output_type": "execute_result"
    }
   ],
   "source": [
    "gp_df[gp_df['gp'] == 'Nethergreen Surgery']"
   ]
  },
  {
   "cell_type": "code",
   "execution_count": 242,
   "id": "d46982c9-fe85-455b-8e35-23e8c84484ed",
   "metadata": {},
   "outputs": [],
   "source": [
    "gp_df[['gp']].to_csv('gps.csv', encoding='gbk', index=False)"
   ]
  },
  {
   "cell_type": "code",
   "execution_count": 116,
   "id": "5f13896a-3548-4541-a17d-3e39a4629af9",
   "metadata": {},
   "outputs": [],
   "source": [
    "# add list of its locations for each gp"
   ]
  },
  {
   "cell_type": "code",
   "execution_count": 110,
   "id": "f87febc8-a23f-4d00-b7e8-c2e078ea0bf7",
   "metadata": {},
   "outputs": [
    {
     "data": {
      "application/vnd.jupyter.widget-view+json": {
       "model_id": "4df22bce52364036be6d30a7d032e9c4",
       "version_major": 2,
       "version_minor": 0
      },
      "text/plain": [
       "  0%|          | 0/8025 [00:00<?, ?it/s]"
      ]
     },
     "metadata": {},
     "output_type": "display_data"
    }
   ],
   "source": [
    "tqdm.pandas()\n",
    "gp_df['locations'] = gp_df['gp'].progress_apply(lambda x: location_df[location_df['gp']==x].locname.unique())"
   ]
  },
  {
   "cell_type": "code",
   "execution_count": null,
   "id": "0ae79b9d-d589-4605-9451-2ac4524141af",
   "metadata": {},
   "outputs": [],
   "source": []
  },
  {
   "cell_type": "code",
   "execution_count": 234,
   "id": "bd5816ce-936d-44c1-b67d-3ba262d4922e",
   "metadata": {},
   "outputs": [
    {
     "data": {
      "text/plain": [
       "array(['Regency Road Surgery', 'Long Clawson Medical Practice',\n",
       "       'Latham House Medical Practice', 'The Welby Practice (Waltham)',\n",
       "       'Stackyard and Woolsthorpe Surgery', 'Cropwell Bishop Surgery',\n",
       "       'Keyworth Medical Practice', \"Dr MK Lakhani's Practice\",\n",
       "       'The Banks Surgery', 'Cotgrave Surgery', 'Great Witley Surgery',\n",
       "       'The Village Hall', 'Stourport Medical Centre', 'Martley Surgery',\n",
       "       'Bewdley Medical Centre', 'Ombersley Medical Centre',\n",
       "       'Cleobury Mortimer Surgery', 'Northumberland House Surgery',\n",
       "       'Grey Gable Surgery', 'Merstow Green Medical Practice',\n",
       "       'Abbey Medical Practice', 'Aylmer Lodge Cookley Partnership',\n",
       "       'Knightwick Surgery', 'Demontfort Medical Centre',\n",
       "       'Pershore Medical Practice', 'Riverside Surgery',\n",
       "       'Abbottswood Medical Centre', 'Feckenham Surgery',\n",
       "       'Templecombe Surgery', 'Milborne Port Surgery',\n",
       "       'Wincanton Health Centre', 'The Blackmore Vale Partnership',\n",
       "       'The Arrow Surgery', 'Alcester Health Centre',\n",
       "       'The Grove Medical Centre', 'The Apples Medical Centre',\n",
       "       'Sherborne School Health Centre', 'Peacemarsh Surgery',\n",
       "       'Silton Surgery', 'Gillingham Medical Practice',\n",
       "       'The County Practice', 'Market Overton and Somerby Surgeries',\n",
       "       'The Jubilee Medical Practice', 'Barrow Health Centre',\n",
       "       'Charnwood Surgery', 'Alpine House Surgery',\n",
       "       'Quorn Medical Centre', 'East Leake', 'Village Health Group',\n",
       "       'Hulton House Surgery', 'Birches Head Medical Ctr.',\n",
       "       'Potteries Medical Centre', 'Millrise Medical Practice',\n",
       "       'The Church Street Practice', 'Belvoir Health Group',\n",
       "       'Prima Care Surgeries', 'The Moorcroft Medical Ctr',\n",
       "       'Cambridge House', 'Moss Green Surgery',\n",
       "       'Harley Street Medical Ctr', 'Silloth Group Medical Practice',\n",
       "       'The Croft Surgery', 'Wigton Group Medical Practice',\n",
       "       'Eden Surgery', 'The Eden Surgeries', 'Ongar Health Centre',\n",
       "       'Rowhedge Surgery', 'Malting Green Surgery', 'Wivenhoe Surgery',\n",
       "       'Abbey Field Medical Centre', 'The Ridgeway Surgery',\n",
       "       'Aspatria Medical Group', 'Caldbeck Surgery',\n",
       "       'Dalston Medical Group', 'Castlegate and Derwent Surgery',\n",
       "       'Maryport Health Services', 'Central Surgery',\n",
       "       'Old Harlow Health Centre', 'Church Langley Medical Practice',\n",
       "       'North Weald Surgery', 'Gardens and Jacobs Medical Partnership',\n",
       "       'Wimpole Road Surgery', 'University Health Centre',\n",
       "       'Creffield Medical Group', 'Shrub End Surgery',\n",
       "       'Ambrose Avenue Group Practice', 'Withnell Health Centre',\n",
       "       'Feniscowles Surgery', 'Bentham Road Health Centre',\n",
       "       'Hollins Grove Surgery', 'Lakeside Medical', 'Abbey Wood Surgery',\n",
       "       'Abbeyslade Pms (Dr Chand)', 'Morton Surgery',\n",
       "       'Eden Medical Group', 'Nuffield House Health Centre',\n",
       "       'Sydenham House Surgery', 'West Mersea Surgery',\n",
       "       'Darwen Healthlink', 'Darwen Healthcare', 'Witton Medical Centre',\n",
       "       'Spring-Fenisco Healthlink', 'Dr A Alam & Partner',\n",
       "       'Gallions Reach Health Centre', 'Bannockburn Surgery',\n",
       "       'Dr Mostafa M A', 'Belvedere Medical Centre', 'Mostafa Pms',\n",
       "       'Kidderminster Medical Centre', 'Stanmore House Surgery',\n",
       "       'Wolverley Surgery', 'Carterknowle And Dore Medical Practice',\n",
       "       'Avenue Medical Practice', 'Beauchief Medical Practice',\n",
       "       'Golden Valley Practice', 'The Surgery Kingstone',\n",
       "       'Peterchurch Surgery', 'Bidford Health Centre',\n",
       "       'Pool Medical Centre', 'Redlam Surgery', 'Bexley Medical Group',\n",
       "       'Station Road Surgery', 'Tenbury Surgery',\n",
       "       'Barbourne Health Centre', 'Thorneloe Lodge Surgery',\n",
       "       'Albany House Surgery', 'St Johns House Surgery',\n",
       "       'Ecclesall Medical Centre', 'Woodseats Medical Centre',\n",
       "       'Totley Rise Medical Centre',\n",
       "       'Carterknowle & Dore Medical Practice',\n",
       "       'Baslow Rd, Shoreham St & York Rd Srgies', 'Much Birch Surgery',\n",
       "       'Belmont Medical Centre', 'Credenhill Surgery',\n",
       "       'Quay House Medical Centre', 'Staunton-On-Wye Surgery',\n",
       "       'Crabbs Cross Medical Centre', 'Crabbs Cross Surgery',\n",
       "       'Lyppard Grange Medical Centre', 'The Bridge Surgery',\n",
       "       'Elbury Moor Medical Centre', 'Queen Camel Medical Centre',\n",
       "       'Blackmore Vale Partnership', 'Millbrook Surgery, Castle Cary',\n",
       "       'Salters Medical Practice', 'Falkland House Surgery',\n",
       "       'Veritas Health Centre', 'South Wye Medical Centre',\n",
       "       'Bobblestock Surgery', \"St Peter's Surgery\",\n",
       "       'Haresfield House Surgery', 'Bruton Surgery', 'Mere Surgery',\n",
       "       'Oaklands Surgery', 'Child Okeford Surgery',\n",
       "       'Nhs Yeovil Health Centre',\n",
       "       'Lancaster Medical Practice (Galgate site)',\n",
       "       'Lancaster Medical Practice (Lancaster University site)',\n",
       "       'Lancaster Medical Practice (Rosebank site)',\n",
       "       'Silverdale Medical Centre', 'Radcliffe-on-Trent. Health Centre',\n",
       "       'Market Overton & Somerby Surgeries', 'Bradworthy Surgery',\n",
       "       'Ruby Country Medical Group', 'Yetminster Medical Centre',\n",
       "       'Lancaster Medical Practice (Meadowside site)',\n",
       "       'Caton Health Centre, part of Dr J D Marriott and Partners',\n",
       "       'Caton Health Centre', 'Lancaster Medical Practice', 'Healthub',\n",
       "       'The Gamston Medical Ctr.', 'The Ruddington Med Centre',\n",
       "       'The Welby Practice', 'Church House Surgery',\n",
       "       'Bottesford Baptist Church', 'Manor Medical Centre',\n",
       "       'Spa Medical Practice', 'Black Torrington Surgery',\n",
       "       'Castle Gardens Surgery', 'TORRINGTON HEALTH CENTRE',\n",
       "       'Bideford Medical Centre', 'Wooda Surgery',\n",
       "       'Hanley Health & Well Being Centre', 'Smallthorne Health Centre',\n",
       "       'Werrington Village Surgery', 'Baddeley Green Surgery',\n",
       "       'Abbots Bromley Surgery', 'Aelfgar Surgery', 'Horsefair Practice',\n",
       "       'Queen Square Medical Practice',\n",
       "       'Lancaster Medical Practice (King Street site)',\n",
       "       'Thurmaston Health Centre', 'Cookley Surgery',\n",
       "       'Chaddesley Surgery', 'Stratton Medical Centre', 'Northam Surgery',\n",
       "       'Hartland Surgery', 'COBRIDGE SURGERY', 'Apsley Surgery'],\n",
       "      dtype=object)"
      ]
     },
     "execution_count": 234,
     "metadata": {},
     "output_type": "execute_result"
    }
   ],
   "source": [
    "gp_df[:200].gp.unique()"
   ]
  },
  {
   "cell_type": "code",
   "execution_count": null,
   "id": "89c2c2ac-161a-410c-bfa8-efd1371d9e0e",
   "metadata": {},
   "outputs": [],
   "source": []
  },
  {
   "cell_type": "code",
   "execution_count": 12,
   "id": "4e36be1b-ebc2-4c43-80ec-afeb8c6cdd7a",
   "metadata": {},
   "outputs": [],
   "source": [
    "df = pd.read_csv('scrapy/gscraper/nhslinks.csv')"
   ]
  },
  {
   "cell_type": "code",
   "execution_count": 9,
   "id": "22b7427b-fd3d-45f0-bff8-554ab3bb03d1",
   "metadata": {},
   "outputs": [
    {
     "data": {
      "text/html": [
       "<div>\n",
       "<style scoped>\n",
       "    .dataframe tbody tr th:only-of-type {\n",
       "        vertical-align: middle;\n",
       "    }\n",
       "\n",
       "    .dataframe tbody tr th {\n",
       "        vertical-align: top;\n",
       "    }\n",
       "\n",
       "    .dataframe thead th {\n",
       "        text-align: right;\n",
       "    }\n",
       "</style>\n",
       "<table border=\"1\" class=\"dataframe\">\n",
       "  <thead>\n",
       "    <tr style=\"text-align: right;\">\n",
       "      <th></th>\n",
       "      <th>gp</th>\n",
       "      <th>nhs_url</th>\n",
       "    </tr>\n",
       "  </thead>\n",
       "  <tbody>\n",
       "    <tr>\n",
       "      <th>0</th>\n",
       "      <td>Regency Road Surgery</td>\n",
       "      <td>https://www.nhs.uk/services/gp-surgery/regency...</td>\n",
       "    </tr>\n",
       "    <tr>\n",
       "      <th>1</th>\n",
       "      <td>Long Clawson Medical Practice</td>\n",
       "      <td>https://www.nhs.uk/services/gp-surgery/long-cl...</td>\n",
       "    </tr>\n",
       "    <tr>\n",
       "      <th>2</th>\n",
       "      <td>Latham House Medical Practice</td>\n",
       "      <td>https://www.nhs.uk/services/gp-surgery/latham-...</td>\n",
       "    </tr>\n",
       "    <tr>\n",
       "      <th>3</th>\n",
       "      <td>The Welby Practice (Waltham)</td>\n",
       "      <td>https://www.nhs.uk/services/gp-surgery/the-wel...</td>\n",
       "    </tr>\n",
       "    <tr>\n",
       "      <th>4</th>\n",
       "      <td>Stackyard and Woolsthorpe Surgery</td>\n",
       "      <td>https://www.nhs.uk/services/gp-surgery/stackya...</td>\n",
       "    </tr>\n",
       "    <tr>\n",
       "      <th>...</th>\n",
       "      <td>...</td>\n",
       "      <td>...</td>\n",
       "    </tr>\n",
       "    <tr>\n",
       "      <th>8027</th>\n",
       "      <td>Diamond Medical Group</td>\n",
       "      <td>https://www.nhs.uk/services/gp-surgery/diamond...</td>\n",
       "    </tr>\n",
       "    <tr>\n",
       "      <th>8028</th>\n",
       "      <td>Dr Barclay P</td>\n",
       "      <td>https://www.nhs.uk/services/gp-surgery/dr-barc...</td>\n",
       "    </tr>\n",
       "    <tr>\n",
       "      <th>8029</th>\n",
       "      <td>Royal Hospital School</td>\n",
       "      <td>https://www.nhs.uk/services/gp-surgery/royal-h...</td>\n",
       "    </tr>\n",
       "    <tr>\n",
       "      <th>8030</th>\n",
       "      <td>Maude Street Surgery</td>\n",
       "      <td>https://www.nhs.uk/services/gp-surgery/maude-s...</td>\n",
       "    </tr>\n",
       "    <tr>\n",
       "      <th>8031</th>\n",
       "      <td>County Road Surgery</td>\n",
       "      <td>https://www.nhs.uk/services/gp-surgery/parkgat...</td>\n",
       "    </tr>\n",
       "  </tbody>\n",
       "</table>\n",
       "<p>8032 rows × 2 columns</p>\n",
       "</div>"
      ],
      "text/plain": [
       "                                     gp  \\\n",
       "0                  Regency Road Surgery   \n",
       "1         Long Clawson Medical Practice   \n",
       "2         Latham House Medical Practice   \n",
       "3          The Welby Practice (Waltham)   \n",
       "4     Stackyard and Woolsthorpe Surgery   \n",
       "...                                 ...   \n",
       "8027              Diamond Medical Group   \n",
       "8028                       Dr Barclay P   \n",
       "8029              Royal Hospital School   \n",
       "8030               Maude Street Surgery   \n",
       "8031                County Road Surgery   \n",
       "\n",
       "                                                nhs_url  \n",
       "0     https://www.nhs.uk/services/gp-surgery/regency...  \n",
       "1     https://www.nhs.uk/services/gp-surgery/long-cl...  \n",
       "2     https://www.nhs.uk/services/gp-surgery/latham-...  \n",
       "3     https://www.nhs.uk/services/gp-surgery/the-wel...  \n",
       "4     https://www.nhs.uk/services/gp-surgery/stackya...  \n",
       "...                                                 ...  \n",
       "8027  https://www.nhs.uk/services/gp-surgery/diamond...  \n",
       "8028  https://www.nhs.uk/services/gp-surgery/dr-barc...  \n",
       "8029  https://www.nhs.uk/services/gp-surgery/royal-h...  \n",
       "8030  https://www.nhs.uk/services/gp-surgery/maude-s...  \n",
       "8031  https://www.nhs.uk/services/gp-surgery/parkgat...  \n",
       "\n",
       "[8032 rows x 2 columns]"
      ]
     },
     "execution_count": 9,
     "metadata": {},
     "output_type": "execute_result"
    }
   ],
   "source": [
    "df"
   ]
  },
  {
   "cell_type": "code",
   "execution_count": 34,
   "id": "28a93f7e-9ceb-493b-9afa-d6cc8716e6f9",
   "metadata": {},
   "outputs": [
    {
     "data": {
      "text/html": [
       "<div>\n",
       "<style scoped>\n",
       "    .dataframe tbody tr th:only-of-type {\n",
       "        vertical-align: middle;\n",
       "    }\n",
       "\n",
       "    .dataframe tbody tr th {\n",
       "        vertical-align: top;\n",
       "    }\n",
       "\n",
       "    .dataframe thead th {\n",
       "        text-align: right;\n",
       "    }\n",
       "</style>\n",
       "<table border=\"1\" class=\"dataframe\">\n",
       "  <thead>\n",
       "    <tr style=\"text-align: right;\">\n",
       "      <th></th>\n",
       "      <th>gp</th>\n",
       "      <th>nhs_url</th>\n",
       "    </tr>\n",
       "  </thead>\n",
       "  <tbody>\n",
       "    <tr>\n",
       "      <th>0</th>\n",
       "      <td>Regency Road Surgery</td>\n",
       "      <td>https://www.nhs.uk/services/gp-surgery/regency...</td>\n",
       "    </tr>\n",
       "    <tr>\n",
       "      <th>1</th>\n",
       "      <td>Long Clawson Medical Practice</td>\n",
       "      <td>https://www.nhs.uk/services/gp-surgery/long-cl...</td>\n",
       "    </tr>\n",
       "    <tr>\n",
       "      <th>2</th>\n",
       "      <td>Latham House Medical Practice</td>\n",
       "      <td>https://www.nhs.uk/services/gp-surgery/latham-...</td>\n",
       "    </tr>\n",
       "    <tr>\n",
       "      <th>3</th>\n",
       "      <td>The Welby Practice (Waltham)</td>\n",
       "      <td>https://www.nhs.uk/services/gp-surgery/the-wel...</td>\n",
       "    </tr>\n",
       "    <tr>\n",
       "      <th>4</th>\n",
       "      <td>Stackyard and Woolsthorpe Surgery</td>\n",
       "      <td>https://www.nhs.uk/services/gp-surgery/stackya...</td>\n",
       "    </tr>\n",
       "    <tr>\n",
       "      <th>...</th>\n",
       "      <td>...</td>\n",
       "      <td>...</td>\n",
       "    </tr>\n",
       "    <tr>\n",
       "      <th>8027</th>\n",
       "      <td>Diamond Medical Group</td>\n",
       "      <td>https://www.nhs.uk/services/gp-surgery/diamond...</td>\n",
       "    </tr>\n",
       "    <tr>\n",
       "      <th>8028</th>\n",
       "      <td>Dr Barclay P</td>\n",
       "      <td>https://www.nhs.uk/services/gp-surgery/dr-barc...</td>\n",
       "    </tr>\n",
       "    <tr>\n",
       "      <th>8029</th>\n",
       "      <td>Royal Hospital School</td>\n",
       "      <td>https://www.nhs.uk/services/gp-surgery/royal-h...</td>\n",
       "    </tr>\n",
       "    <tr>\n",
       "      <th>8030</th>\n",
       "      <td>Maude Street Surgery</td>\n",
       "      <td>https://www.nhs.uk/services/gp-surgery/maude-s...</td>\n",
       "    </tr>\n",
       "    <tr>\n",
       "      <th>8031</th>\n",
       "      <td>County Road Surgery</td>\n",
       "      <td>https://www.nhs.uk/services/gp-surgery/parkgat...</td>\n",
       "    </tr>\n",
       "  </tbody>\n",
       "</table>\n",
       "<p>8027 rows × 2 columns</p>\n",
       "</div>"
      ],
      "text/plain": [
       "                                     gp  \\\n",
       "0                  Regency Road Surgery   \n",
       "1         Long Clawson Medical Practice   \n",
       "2         Latham House Medical Practice   \n",
       "3          The Welby Practice (Waltham)   \n",
       "4     Stackyard and Woolsthorpe Surgery   \n",
       "...                                 ...   \n",
       "8027              Diamond Medical Group   \n",
       "8028                       Dr Barclay P   \n",
       "8029              Royal Hospital School   \n",
       "8030               Maude Street Surgery   \n",
       "8031                County Road Surgery   \n",
       "\n",
       "                                                nhs_url  \n",
       "0     https://www.nhs.uk/services/gp-surgery/regency...  \n",
       "1     https://www.nhs.uk/services/gp-surgery/long-cl...  \n",
       "2     https://www.nhs.uk/services/gp-surgery/latham-...  \n",
       "3     https://www.nhs.uk/services/gp-surgery/the-wel...  \n",
       "4     https://www.nhs.uk/services/gp-surgery/stackya...  \n",
       "...                                                 ...  \n",
       "8027  https://www.nhs.uk/services/gp-surgery/diamond...  \n",
       "8028  https://www.nhs.uk/services/gp-surgery/dr-barc...  \n",
       "8029  https://www.nhs.uk/services/gp-surgery/royal-h...  \n",
       "8030  https://www.nhs.uk/services/gp-surgery/maude-s...  \n",
       "8031  https://www.nhs.uk/services/gp-surgery/parkgat...  \n",
       "\n",
       "[8027 rows x 2 columns]"
      ]
     },
     "execution_count": 34,
     "metadata": {},
     "output_type": "execute_result"
    }
   ],
   "source": [
    "new = df.dropna()\n",
    "new"
   ]
  },
  {
   "cell_type": "code",
   "execution_count": null,
   "id": "37de43fd-8917-48f3-bb44-3526585647fd",
   "metadata": {},
   "outputs": [],
   "source": []
  }
 ],
 "metadata": {
  "kernelspec": {
   "display_name": "Python 3",
   "language": "python",
   "name": "python3"
  },
  "language_info": {
   "codemirror_mode": {
    "name": "ipython",
    "version": 3
   },
   "file_extension": ".py",
   "mimetype": "text/x-python",
   "name": "python",
   "nbconvert_exporter": "python",
   "pygments_lexer": "ipython3",
   "version": "3.10.2"
  }
 },
 "nbformat": 4,
 "nbformat_minor": 5
}
